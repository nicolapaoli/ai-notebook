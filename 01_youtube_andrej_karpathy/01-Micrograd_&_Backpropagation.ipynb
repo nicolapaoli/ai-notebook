{
 "cells": [
  {
   "cell_type": "code",
   "execution_count": null,
   "id": "a7af6742",
   "metadata": {},
   "outputs": [],
   "source": [
    "# I am just practicing things based on the following sources:\n",
    "# \n",
    "# Video Tutorial: https://www.youtube.com/watch?v=VMj-3S1tku0\n",
    "# GitHub repo: https://github.com/karpathy/micrograd"
   ]
  },
  {
   "cell_type": "code",
   "execution_count": null,
   "id": "6092b807",
   "metadata": {},
   "outputs": [],
   "source": [
    "import math\n",
    "import numpy as np\n",
    "import matplotlib.pyplot as plt\n",
    "%matplotlib inline"
   ]
  },
  {
   "cell_type": "code",
   "execution_count": null,
   "id": "5ae118f9",
   "metadata": {},
   "outputs": [],
   "source": [
    "class Value:\n",
    "    \n",
    "    def __init__(self, data, _children=(), _op='', label=''):\n",
    "        self.data = data\n",
    "        self._prev = set(_children)\n",
    "        self.label = label\n",
    "        self._op = _op\n",
    "        self.grad = 0\n",
    "        \n",
    "    def __add__(self, other):\n",
    "        return Value(self.data + other.data, _children=(self, other), _op='+')\n",
    "    \n",
    "    def __mul__(self, other):\n",
    "        return Value(self.data * other.data, _children=(self, other), _op='*')\n",
    "        \n",
    "    def __repr__(self):\n",
    "        return f'Value(label={self.label}, data={self.data})'"
   ]
  },
  {
   "cell_type": "code",
   "execution_count": null,
   "id": "91c397e8",
   "metadata": {},
   "outputs": [],
   "source": [
    "a = Value(2.0, label='a'); print(a)\n",
    "b = Value(-3.0, label='b'); print(b)\n",
    "c = a * b; c.label='c'; print(c)\n",
    "d = Value(2.0, label='d'); print(d)\n",
    "e = c + d; e.label='e'; print(e)\n",
    "f = Value(2.0, label='f'); print(f)\n",
    "L = e * f; L.label='L'; print(L)"
   ]
  },
  {
   "cell_type": "code",
   "execution_count": null,
   "id": "e87cd0e3",
   "metadata": {},
   "outputs": [],
   "source": [
    "from graphviz import Digraph\n",
    "\n",
    "def trace(root):\n",
    "    nodes, edges = set(), set()\n",
    "    \n",
    "    def build(v):\n",
    "        if v not in nodes:\n",
    "            nodes.add(v)\n",
    "            for child in v._prev:\n",
    "                edges.add((child, v))\n",
    "                build(child)\n",
    "                \n",
    "    build(root)\n",
    "    return nodes,edges\n",
    "    \n",
    "def draw_dot(root):\n",
    "    dot = Digraph(format='svg', graph_attr={'rankdir': 'LR'})\n",
    "    \n",
    "    nodes, edges = trace(root)\n",
    "    for n in nodes:\n",
    "        uid = str(id(n))\n",
    "        dot.node(name = uid, label = \"%s | data %.4f | grad %.4f\" % (n.label, n.data, n.grad), shape='record')\n",
    "        if n._op:\n",
    "            dot.node(name = uid + n._op, label= f\"{n._op}\")\n",
    "            \n",
    "            dot.edge(uid + n._op, uid)\n",
    "    \n",
    "    for n1, n2 in edges:\n",
    "        dot.edge(str(id(n1)), str(id(n2)) + n2._op)\n",
    "            \n",
    "    return dot\n",
    "    "
   ]
  },
  {
   "cell_type": "code",
   "execution_count": null,
   "id": "a59fe4fc",
   "metadata": {},
   "outputs": [],
   "source": [
    "draw_dot(L)"
   ]
  },
  {
   "cell_type": "code",
   "execution_count": null,
   "id": "a43e0f8c",
   "metadata": {},
   "outputs": [],
   "source": [
    "h = 0.01"
   ]
  },
  {
   "cell_type": "code",
   "execution_count": null,
   "id": "0c6064f6",
   "metadata": {},
   "outputs": [],
   "source": [
    "def fn(a,b,d,f):\n",
    "    c = a * b\n",
    "    e = c + d\n",
    "    L = e * f\n",
    "    return L.data"
   ]
  },
  {
   "cell_type": "code",
   "execution_count": null,
   "id": "755c746d",
   "metadata": {},
   "outputs": [],
   "source": [
    "dL_dL = ((fn(a,b,d,f) + h) - fn(a,b,d,f))/h\n",
    "L.grad = dL_dL"
   ]
  },
  {
   "cell_type": "code",
   "execution_count": null,
   "id": "431bce70",
   "metadata": {},
   "outputs": [],
   "source": [
    "f.grad = e.data\n",
    "e.grad = f.data\n",
    "\n",
    "d.grad = e.grad * L.grad\n",
    "c.grad = e.grad * L.grad\n",
    "\n",
    "b.grad = c.grad * a.data\n",
    "a.grad = c.grad * b.data"
   ]
  },
  {
   "cell_type": "code",
   "execution_count": null,
   "id": "3c0ab2f5",
   "metadata": {},
   "outputs": [],
   "source": [
    "a.data += 0.01 * a.grad\n",
    "b.data += 0.01 * b.grad\n",
    "d.data += 0.01 * d.grad\n",
    "f.data += 0.01 * f.grad"
   ]
  },
  {
   "cell_type": "code",
   "execution_count": null,
   "id": "045ffe40",
   "metadata": {},
   "outputs": [],
   "source": [
    "c = a * b; c.label='c'\n",
    "e = c + d; e.label='e'; print(e)\n",
    "L = e * f; L.label='L'; print(L)"
   ]
  },
  {
   "cell_type": "code",
   "execution_count": null,
   "id": "26c32fdb",
   "metadata": {},
   "outputs": [],
   "source": [
    "draw_dot(L)"
   ]
  },
  {
   "cell_type": "code",
   "execution_count": null,
   "id": "9956e09a",
   "metadata": {},
   "outputs": [],
   "source": [
    "class Value_Full:\n",
    "    \n",
    "    def __init__(self, data, label=\"\", _children=(), _op=None):\n",
    "        self.data = data\n",
    "        self.grad = 0\n",
    "        self.label = label\n",
    "        self._prev = set(_children)\n",
    "        self._op = _op\n",
    "        self._backprop = lambda: None\n",
    "    \n",
    "    def __add__(self, other):\n",
    "        data = other.data if isinstance(other, Value_Full) else other\n",
    "        out = Value_Full(self.data + data, _children=(self, other), _op=\"+\")\n",
    "\n",
    "        def _add_backprop():\n",
    "            self.grad += 1.0 * out.grad\n",
    "            other.grad += 1.0 * out.grad\n",
    "        \n",
    "        self._backprop = _add_backprop\n",
    "        return out\n",
    "\n",
    "    def __mul__(self, other, _op=\"*\"):\n",
    "        data = other.data if isinstance(other, Value_Full) else other\n",
    "        out = Value_Full(self.data * data, _children=(self, other), _op=\"*\")\n",
    "        out.grad += self.data * other.grad\n",
    "        \n",
    "        def _mul_backprop():\n",
    "            self.grad += other.data * out.grad\n",
    "            other.grad += self.data * out.grad\n",
    "        \n",
    "        self._backprop = _mul_backprop\n",
    "        return out\n",
    "    \n",
    "    def reset_grads(self):\n",
    "        for n in self._prev:\n",
    "            n.reset_grads()\n",
    "            n.grad = 0\n",
    "        \n",
    "    def backprop(self):\n",
    "        \n",
    "        self.reset_grads()\n",
    "        \n",
    "        def go_back(node):\n",
    "            chain = []\n",
    "            for n in node._prev:\n",
    "                chain += go_back(n)\n",
    "            chain.append(node)\n",
    "            return chain\n",
    "        \n",
    "        self.grad = 1.0\n",
    "        for n in reversed(go_back(self)):\n",
    "            n._backprop()\n",
    "        \n",
    "    \n",
    "    def __repr__(self):\n",
    "        return f'Value_Full(label={self.label}, data={self.data}, grad={self.grad})'"
   ]
  },
  {
   "cell_type": "code",
   "execution_count": null,
   "id": "7fb86f94",
   "metadata": {},
   "outputs": [],
   "source": [
    "\n",
    "a = Value_Full(2, \"a\")\n",
    "b = Value_Full(3, \"b\")\n",
    "c = a + b; c.label=\"c\"\n",
    "d = a * b; d.label=\"d\"\n",
    "e = (c * d) + (a * b); e.label=\"e\"\n",
    "\n",
    "draw_dot(e)"
   ]
  },
  {
   "cell_type": "code",
   "execution_count": null,
   "id": "effa5519",
   "metadata": {},
   "outputs": [],
   "source": [
    "e.backprop()"
   ]
  },
  {
   "cell_type": "code",
   "execution_count": null,
   "id": "3aa6f526",
   "metadata": {},
   "outputs": [],
   "source": [
    "draw_dot(e)"
   ]
  },
  {
   "cell_type": "code",
   "execution_count": null,
   "id": "6e8a5246",
   "metadata": {},
   "outputs": [],
   "source": [
    "b.data += 0.01 * b.grad\n",
    "\n",
    "c = a + b; c.label=\"c\"\n",
    "d = a * b; d.label=\"d\"\n",
    "e = (c * d) + (a * b); e.label=\"e\"\n",
    "\n",
    "e.backprop()\n",
    "draw_dot(e)"
   ]
  },
  {
   "cell_type": "code",
   "execution_count": null,
   "id": "627687a0",
   "metadata": {},
   "outputs": [],
   "source": []
  },
  {
   "cell_type": "code",
   "execution_count": null,
   "id": "03d5e4e1",
   "metadata": {},
   "outputs": [],
   "source": []
  }
 ],
 "metadata": {
  "kernelspec": {
   "display_name": "Python 3 (ipykernel)",
   "language": "python",
   "name": "python3"
  },
  "language_info": {
   "codemirror_mode": {
    "name": "ipython",
    "version": 3
   },
   "file_extension": ".py",
   "mimetype": "text/x-python",
   "name": "python",
   "nbconvert_exporter": "python",
   "pygments_lexer": "ipython3",
   "version": "3.11.3"
  }
 },
 "nbformat": 4,
 "nbformat_minor": 5
}
