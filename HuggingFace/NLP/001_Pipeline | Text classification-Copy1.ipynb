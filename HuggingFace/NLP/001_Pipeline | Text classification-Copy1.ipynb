{
 "cells": [
  {
   "cell_type": "code",
   "execution_count": 1,
   "id": "d7cb0179-40c0-48b3-a112-0dca7d5821ee",
   "metadata": {},
   "outputs": [],
   "source": [
    "# Following NLP Course here:\n",
    "# https://huggingface.co/learn/nlp-course/chapter1/1"
   ]
  },
  {
   "cell_type": "code",
   "execution_count": 4,
   "id": "acf6a69a-40a2-4044-9352-ef17910d94cb",
   "metadata": {},
   "outputs": [],
   "source": [
    "from transformers import pipeline"
   ]
  },
  {
   "cell_type": "code",
   "execution_count": 5,
   "id": "c0e21824-2e72-4600-ac6d-89a583c70515",
   "metadata": {},
   "outputs": [
    {
     "name": "stderr",
     "output_type": "stream",
     "text": [
      "No model was supplied, defaulted to distilbert-base-uncased-finetuned-sst-2-english and revision af0f99b (https://huggingface.co/distilbert-base-uncased-finetuned-sst-2-english).\n",
      "Using a pipeline without specifying a model name and revision in production is not recommended.\n"
     ]
    },
    {
     "data": {
      "application/vnd.jupyter.widget-view+json": {
       "model_id": "1e8c69d018234ad694c29d17c7e8f784",
       "version_major": 2,
       "version_minor": 0
      },
      "text/plain": [
       "Downloading (…)lve/main/config.json:   0%|          | 0.00/629 [00:00<?, ?B/s]"
      ]
     },
     "metadata": {},
     "output_type": "display_data"
    },
    {
     "data": {
      "application/vnd.jupyter.widget-view+json": {
       "model_id": "a635547e234242b180754ac116f0bf53",
       "version_major": 2,
       "version_minor": 0
      },
      "text/plain": [
       "Downloading model.safetensors:   0%|          | 0.00/268M [00:00<?, ?B/s]"
      ]
     },
     "metadata": {},
     "output_type": "display_data"
    },
    {
     "data": {
      "application/vnd.jupyter.widget-view+json": {
       "model_id": "3cce6db1f71946c6897f44a1a45ce934",
       "version_major": 2,
       "version_minor": 0
      },
      "text/plain": [
       "Downloading (…)okenizer_config.json:   0%|          | 0.00/48.0 [00:00<?, ?B/s]"
      ]
     },
     "metadata": {},
     "output_type": "display_data"
    },
    {
     "data": {
      "application/vnd.jupyter.widget-view+json": {
       "model_id": "0c552ddfbbf94ee28757b81f0b9e7f94",
       "version_major": 2,
       "version_minor": 0
      },
      "text/plain": [
       "Downloading (…)solve/main/vocab.txt:   0%|          | 0.00/232k [00:00<?, ?B/s]"
      ]
     },
     "metadata": {},
     "output_type": "display_data"
    },
    {
     "data": {
      "text/plain": [
       "[{'label': 'POSITIVE', 'score': 0.8149658441543579}]"
      ]
     },
     "execution_count": 5,
     "metadata": {},
     "output_type": "execute_result"
    }
   ],
   "source": [
    "# Text classification on a given input\n",
    "classifier = pipeline(\"sentiment-analysis\")\n",
    "classifier(\"I've been waiting for it for so long!\")"
   ]
  },
  {
   "cell_type": "code",
   "execution_count": 6,
   "id": "1d3c299c-01af-4aad-9e31-dfa16b082027",
   "metadata": {},
   "outputs": [
    {
     "data": {
      "text/plain": [
       "[{'label': 'POSITIVE', 'score': 0.9995439648628235}]"
      ]
     },
     "execution_count": 6,
     "metadata": {},
     "output_type": "execute_result"
    }
   ],
   "source": [
    "classifier(\"Hello!\")"
   ]
  },
  {
   "cell_type": "code",
   "execution_count": 7,
   "id": "80e7ccfd-c543-47b1-8b12-8c9a2d900adc",
   "metadata": {},
   "outputs": [
    {
     "data": {
      "text/plain": [
       "[{'label': 'POSITIVE', 'score': 0.9735070466995239}]"
      ]
     },
     "execution_count": 7,
     "metadata": {},
     "output_type": "execute_result"
    }
   ],
   "source": [
    "classifier(\"Hello?\")"
   ]
  },
  {
   "cell_type": "code",
   "execution_count": 8,
   "id": "fe925565-ae78-449a-9c39-f5a25507f066",
   "metadata": {},
   "outputs": [
    {
     "data": {
      "text/plain": [
       "[{'label': 'POSITIVE', 'score': 0.9991612434387207}]"
      ]
     },
     "execution_count": 8,
     "metadata": {},
     "output_type": "execute_result"
    }
   ],
   "source": [
    "classifier(\"Hello..\")"
   ]
  },
  {
   "cell_type": "code",
   "execution_count": 9,
   "id": "08f57a60-fed0-43c4-9372-5811d180688f",
   "metadata": {},
   "outputs": [
    {
     "data": {
      "text/plain": [
       "[{'label': 'POSITIVE', 'score': 0.9872909188270569}]"
      ]
     },
     "execution_count": 9,
     "metadata": {},
     "output_type": "execute_result"
    }
   ],
   "source": [
    "classifier(\"a\")"
   ]
  },
  {
   "cell_type": "code",
   "execution_count": 99,
   "id": "8283918e-b334-47bb-b351-4512c68a7c4b",
   "metadata": {},
   "outputs": [],
   "source": [
    "letters = [l for l in  \"abcdefghijklmnopqrstuvwxyz\"]\n",
    "numbers = [str(n) for n in range(1,10)]\n",
    "signs = [s for s in \"+-*!@£$%^&*()}{\\/|'><~`\"]"
   ]
  },
  {
   "cell_type": "code",
   "execution_count": 100,
   "id": "bc7c756e-76c2-4663-b757-5ba5dd404fb0",
   "metadata": {},
   "outputs": [],
   "source": [
    "def classify(input):\n",
    "    res = {}\n",
    "    for a,b in zip(input, classifier(input)):\n",
    "        if b['label'] == 'POSITIVE':\n",
    "            res[a] = b['score']\n",
    "        else:\n",
    "            res[a] = -b['score']\n",
    "    return res"
   ]
  },
  {
   "cell_type": "code",
   "execution_count": 101,
   "id": "2a14f570-72c1-4b2e-b098-fe3b1a0fc8bd",
   "metadata": {},
   "outputs": [
    {
     "data": {
      "text/plain": [
       "{'a': 0.9872909188270569,\n",
       " 'b': 0.9129438400268555,\n",
       " 'c': 0.9845702052116394,\n",
       " 'd': 0.9728984832763672,\n",
       " 'e': 0.8149789571762085,\n",
       " 'f': -0.7622151970863342,\n",
       " 'g': 0.8880616426467896,\n",
       " 'h': 0.9235394597053528,\n",
       " 'i': 0.9797317385673523,\n",
       " 'j': 0.9535009860992432,\n",
       " 'k': 0.853009819984436,\n",
       " 'l': 0.9401155710220337,\n",
       " 'm': 0.9475017189979553,\n",
       " 'n': 0.9506378173828125,\n",
       " 'o': 0.9977118968963623,\n",
       " 'p': -0.5954519510269165,\n",
       " 'q': 0.9907715320587158,\n",
       " 'r': 0.9881240725517273,\n",
       " 's': 0.9623135924339294,\n",
       " 't': -0.9681645035743713,\n",
       " 'u': 0.9167222380638123,\n",
       " 'v': 0.527425229549408,\n",
       " 'w': 0.9319086074829102,\n",
       " 'x': 0.9690304398536682,\n",
       " 'y': 0.9452084898948669,\n",
       " 'z': 0.900819718837738}"
      ]
     },
     "execution_count": 101,
     "metadata": {},
     "output_type": "execute_result"
    }
   ],
   "source": [
    "classify(letters)"
   ]
  },
  {
   "cell_type": "code",
   "execution_count": 102,
   "id": "a353692a-6910-45c2-96ce-c6b45ed7ac26",
   "metadata": {},
   "outputs": [
    {
     "data": {
      "text/plain": [
       "{'1': 0.985403299331665,\n",
       " '2': 0.9909850358963013,\n",
       " '3': 0.9918027520179749,\n",
       " '4': 0.9861552119255066,\n",
       " '5': 0.9894697666168213,\n",
       " '6': 0.9820075631141663,\n",
       " '7': 0.9833804368972778,\n",
       " '8': 0.9762058258056641,\n",
       " '9': 0.9806599020957947}"
      ]
     },
     "execution_count": 102,
     "metadata": {},
     "output_type": "execute_result"
    }
   ],
   "source": [
    "classify(numbers)"
   ]
  },
  {
   "cell_type": "code",
   "execution_count": 103,
   "id": "ef5beeed-8739-440e-ab60-fe3417895105",
   "metadata": {},
   "outputs": [
    {
     "data": {
      "text/plain": [
       "{'+': 0.9984253644943237,\n",
       " '-': 0.9872410297393799,\n",
       " '*': 0.9803915023803711,\n",
       " '!': 0.999370276927948,\n",
       " '@': 0.9311781525611877,\n",
       " '£': 0.9692150950431824,\n",
       " '$': 0.9871543645858765,\n",
       " '%': 0.9948051571846008,\n",
       " '^': 0.9445922374725342,\n",
       " '&': 0.9841646552085876,\n",
       " '(': -0.8485715985298157,\n",
       " ')': 0.5551303029060364,\n",
       " '}': -0.5907748937606812,\n",
       " '{': 0.823119044303894,\n",
       " '\\\\': 0.9423726201057434,\n",
       " '/': -0.7566356658935547,\n",
       " '|': -0.9382736086845398,\n",
       " \"'\": 0.9618720412254333,\n",
       " '>': 0.9319043755531311,\n",
       " '<': 0.8186994194984436,\n",
       " '~': 0.9863265752792358,\n",
       " '`': 0.9583833813667297}"
      ]
     },
     "execution_count": 103,
     "metadata": {},
     "output_type": "execute_result"
    }
   ],
   "source": [
    "classify(signs)"
   ]
  },
  {
   "cell_type": "code",
   "execution_count": null,
   "id": "e6fcad68-b25f-4914-acaf-c66120049c1d",
   "metadata": {},
   "outputs": [],
   "source": []
  }
 ],
 "metadata": {
  "kernelspec": {
   "display_name": "Python 3 (ipykernel)",
   "language": "python",
   "name": "python3"
  },
  "language_info": {
   "codemirror_mode": {
    "name": "ipython",
    "version": 3
   },
   "file_extension": ".py",
   "mimetype": "text/x-python",
   "name": "python",
   "nbconvert_exporter": "python",
   "pygments_lexer": "ipython3",
   "version": "3.10.13"
  }
 },
 "nbformat": 4,
 "nbformat_minor": 5
}
