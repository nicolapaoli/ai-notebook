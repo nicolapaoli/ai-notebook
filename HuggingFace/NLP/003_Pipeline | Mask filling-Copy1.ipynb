{
 "cells": [
  {
   "cell_type": "code",
   "execution_count": 1,
   "id": "d7cb0179-40c0-48b3-a112-0dca7d5821ee",
   "metadata": {},
   "outputs": [],
   "source": [
    "# Following NLP Course here:\n",
    "# https://huggingface.co/learn/nlp-course/chapter1/1"
   ]
  },
  {
   "cell_type": "code",
   "execution_count": 1,
   "id": "acf6a69a-40a2-4044-9352-ef17910d94cb",
   "metadata": {},
   "outputs": [],
   "source": [
    "from transformers import pipeline"
   ]
  },
  {
   "cell_type": "code",
   "execution_count": 2,
   "id": "d8a72fda-fb97-47c0-be16-51faeee95522",
   "metadata": {},
   "outputs": [
    {
     "name": "stderr",
     "output_type": "stream",
     "text": [
      "No model was supplied, defaulted to distilroberta-base and revision ec58a5b (https://huggingface.co/distilroberta-base).\n",
      "Using a pipeline without specifying a model name and revision in production is not recommended.\n",
      "Some weights of the model checkpoint at distilroberta-base were not used when initializing RobertaForMaskedLM: ['roberta.pooler.dense.weight', 'roberta.pooler.dense.bias']\n",
      "- This IS expected if you are initializing RobertaForMaskedLM from the checkpoint of a model trained on another task or with another architecture (e.g. initializing a BertForSequenceClassification model from a BertForPreTraining model).\n",
      "- This IS NOT expected if you are initializing RobertaForMaskedLM from the checkpoint of a model that you expect to be exactly identical (initializing a BertForSequenceClassification model from a BertForSequenceClassification model).\n"
     ]
    }
   ],
   "source": [
    "# Pipeline for mask filling\n",
    "unmasker = pipeline(\"fill-mask\")"
   ]
  },
  {
   "cell_type": "code",
   "execution_count": 3,
   "id": "e9d4fe81-7b1a-433d-a172-f308b603580e",
   "metadata": {},
   "outputs": [
    {
     "data": {
      "text/plain": [
       "[{'score': 0.017330579459667206,\n",
       "  'token': 25634,\n",
       "  'token_str': ' mathematics',\n",
       "  'sequence': 'In this course I will learn all about mathematics'},\n",
       " {'score': 0.014746432192623615,\n",
       "  'token': 17759,\n",
       "  'token_str': ' physics',\n",
       "  'sequence': 'In this course I will learn all about physics'},\n",
       " {'score': 0.012465178035199642,\n",
       "  'token': 10795,\n",
       "  'token_str': ' evolution',\n",
       "  'sequence': 'In this course I will learn all about evolution'},\n",
       " {'score': 0.00907465722411871,\n",
       "  'token': 8326,\n",
       "  'token_str': ' programming',\n",
       "  'sequence': 'In this course I will learn all about programming'},\n",
       " {'score': 0.008444457314908504,\n",
       "  'token': 45369,\n",
       "  'token_str': ' cryptography',\n",
       "  'sequence': 'In this course I will learn all about cryptography'}]"
      ]
     },
     "execution_count": 3,
     "metadata": {},
     "output_type": "execute_result"
    }
   ],
   "source": [
    "unmasker(\"In this course I will learn all about <mask>\")"
   ]
  },
  {
   "cell_type": "code",
   "execution_count": 4,
   "id": "4c14fe80-e2d8-462f-bcf4-595cc72f0764",
   "metadata": {},
   "outputs": [
    {
     "data": {
      "text/plain": [
       "[{'score': 0.15011069178581238,\n",
       "  'token': 49652,\n",
       "  'token_str': 'Advertisements',\n",
       "  'sequence': 'Advertisements'},\n",
       " {'score': 0.033981017768383026,\n",
       "  'token': 11957,\n",
       "  'token_str': 'Share',\n",
       "  'sequence': 'Share'},\n",
       " {'score': 0.029214514419436455,\n",
       "  'token': 46788,\n",
       "  'token_str': 'comments',\n",
       "  'sequence': 'comments'},\n",
       " {'score': 0.029157565906643867,\n",
       "  'token': 48134,\n",
       "  'token_str': '###',\n",
       "  'sequence': '###'},\n",
       " {'score': 0.02629588358104229,\n",
       "  'token': 48071,\n",
       "  'token_str': 'advertisement',\n",
       "  'sequence': 'advertisement'}]"
      ]
     },
     "execution_count": 4,
     "metadata": {},
     "output_type": "execute_result"
    }
   ],
   "source": [
    "unmasker(\"<mask>\")"
   ]
  },
  {
   "cell_type": "code",
   "execution_count": 6,
   "id": "5e331536-640a-43d4-921d-4a0c6c46d845",
   "metadata": {},
   "outputs": [
    {
     "data": {
      "text/plain": [
       "[{'score': 0.07136259227991104,\n",
       "  'token': 621,\n",
       "  'token_str': ' person',\n",
       "  'sequence': 'Why not unmasking this person?'},\n",
       " {'score': 0.05238085612654686,\n",
       "  'token': 313,\n",
       "  'token_str': ' man',\n",
       "  'sequence': 'Why not unmasking this man?'},\n",
       " {'score': 0.04833776503801346,\n",
       "  'token': 2173,\n",
       "  'token_str': ' guy',\n",
       "  'sequence': 'Why not unmasking this guy?'},\n",
       " {'score': 0.039748288691043854,\n",
       "  'token': 1736,\n",
       "  'token_str': ' individual',\n",
       "  'sequence': 'Why not unmasking this individual?'},\n",
       " {'score': 0.03472582623362541,\n",
       "  'token': 4439,\n",
       "  'token_str': ' reporter',\n",
       "  'sequence': 'Why not unmasking this reporter?'}]"
      ]
     },
     "execution_count": 6,
     "metadata": {},
     "output_type": "execute_result"
    }
   ],
   "source": [
    "unmasker(\"Why not unmasking this <mask>?\")"
   ]
  },
  {
   "cell_type": "code",
   "execution_count": 7,
   "id": "6a4f8824-810f-40e6-99b1-a982fd0309ee",
   "metadata": {},
   "outputs": [
    {
     "data": {
      "text/plain": [
       "[{'score': 0.12684039771556854,\n",
       "  'token': 196,\n",
       "  'token_str': 'ed',\n",
       "  'sequence': 'Unmasked'},\n",
       " {'score': 0.058707453310489655,\n",
       "  'token': 154,\n",
       "  'token_str': 'ing',\n",
       "  'sequence': 'Unmasking'},\n",
       " {'score': 0.019303876906633377,\n",
       "  'token': 22158,\n",
       "  'token_str': ' Mode',\n",
       "  'sequence': 'Unmask Mode'},\n",
       " {'score': 0.016290100291371346,\n",
       "  'token': 328,\n",
       "  'token_str': '!',\n",
       "  'sequence': 'Unmask!'},\n",
       " {'score': 0.013352219946682453,\n",
       "  'token': 24092,\n",
       "  'token_str': ' Password',\n",
       "  'sequence': 'Unmask Password'}]"
      ]
     },
     "execution_count": 7,
     "metadata": {},
     "output_type": "execute_result"
    }
   ],
   "source": [
    "unmasker(\"Unmask <mask>\")"
   ]
  },
  {
   "cell_type": "code",
   "execution_count": null,
   "id": "c16e7a72-9d26-45a5-9520-c216639a6355",
   "metadata": {},
   "outputs": [],
   "source": []
  }
 ],
 "metadata": {
  "kernelspec": {
   "display_name": "Python 3 (ipykernel)",
   "language": "python",
   "name": "python3"
  },
  "language_info": {
   "codemirror_mode": {
    "name": "ipython",
    "version": 3
   },
   "file_extension": ".py",
   "mimetype": "text/x-python",
   "name": "python",
   "nbconvert_exporter": "python",
   "pygments_lexer": "ipython3",
   "version": "3.10.13"
  }
 },
 "nbformat": 4,
 "nbformat_minor": 5
}
