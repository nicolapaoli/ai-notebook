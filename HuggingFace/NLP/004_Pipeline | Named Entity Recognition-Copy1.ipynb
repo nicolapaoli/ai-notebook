{
 "cells": [
  {
   "cell_type": "code",
   "execution_count": 1,
   "id": "d7cb0179-40c0-48b3-a112-0dca7d5821ee",
   "metadata": {},
   "outputs": [],
   "source": [
    "# Following NLP Course here:\n",
    "# https://huggingface.co/learn/nlp-course/chapter1/1"
   ]
  },
  {
   "cell_type": "code",
   "execution_count": 2,
   "id": "acf6a69a-40a2-4044-9352-ef17910d94cb",
   "metadata": {},
   "outputs": [],
   "source": [
    "from transformers import pipeline"
   ]
  },
  {
   "cell_type": "code",
   "execution_count": 3,
   "id": "21e923e2-146c-4ff9-b1d8-3cd8269673cc",
   "metadata": {},
   "outputs": [
    {
     "name": "stderr",
     "output_type": "stream",
     "text": [
      "No model was supplied, defaulted to dbmdz/bert-large-cased-finetuned-conll03-english and revision f2482bf (https://huggingface.co/dbmdz/bert-large-cased-finetuned-conll03-english).\n",
      "Using a pipeline without specifying a model name and revision in production is not recommended.\n"
     ]
    },
    {
     "data": {
      "application/vnd.jupyter.widget-view+json": {
       "model_id": "09df80a31ec24a8fb8cb9a4da6f6bfd3",
       "version_major": 2,
       "version_minor": 0
      },
      "text/plain": [
       "Downloading (…)lve/main/config.json:   0%|          | 0.00/998 [00:00<?, ?B/s]"
      ]
     },
     "metadata": {},
     "output_type": "display_data"
    },
    {
     "data": {
      "application/vnd.jupyter.widget-view+json": {
       "model_id": "da094c5edf134722934bced1e83201e8",
       "version_major": 2,
       "version_minor": 0
      },
      "text/plain": [
       "Downloading model.safetensors:   0%|          | 0.00/1.33G [00:00<?, ?B/s]"
      ]
     },
     "metadata": {},
     "output_type": "display_data"
    },
    {
     "name": "stderr",
     "output_type": "stream",
     "text": [
      "Some weights of the model checkpoint at dbmdz/bert-large-cased-finetuned-conll03-english were not used when initializing BertForTokenClassification: ['bert.pooler.dense.bias', 'bert.pooler.dense.weight']\n",
      "- This IS expected if you are initializing BertForTokenClassification from the checkpoint of a model trained on another task or with another architecture (e.g. initializing a BertForSequenceClassification model from a BertForPreTraining model).\n",
      "- This IS NOT expected if you are initializing BertForTokenClassification from the checkpoint of a model that you expect to be exactly identical (initializing a BertForSequenceClassification model from a BertForSequenceClassification model).\n"
     ]
    },
    {
     "data": {
      "application/vnd.jupyter.widget-view+json": {
       "model_id": "30a31a418bee45b28d84cc80b8fb4035",
       "version_major": 2,
       "version_minor": 0
      },
      "text/plain": [
       "Downloading (…)okenizer_config.json:   0%|          | 0.00/60.0 [00:00<?, ?B/s]"
      ]
     },
     "metadata": {},
     "output_type": "display_data"
    },
    {
     "data": {
      "application/vnd.jupyter.widget-view+json": {
       "model_id": "b9b0749ec7394baa86eea00ae92d1c52",
       "version_major": 2,
       "version_minor": 0
      },
      "text/plain": [
       "Downloading (…)solve/main/vocab.txt:   0%|          | 0.00/213k [00:00<?, ?B/s]"
      ]
     },
     "metadata": {},
     "output_type": "display_data"
    },
    {
     "name": "stderr",
     "output_type": "stream",
     "text": [
      "/usr/local/lib/python3.10/site-packages/transformers/pipelines/token_classification.py:169: UserWarning: `grouped_entities` is deprecated and will be removed in version v5.0.0, defaulted to `aggregation_strategy=\"simple\"` instead.\n",
      "  warnings.warn(\n"
     ]
    }
   ],
   "source": [
    "#Pipeline for NER (Named Entity Recognition)\n",
    "ner = pipeline(\"ner\", grouped_entities=True)"
   ]
  },
  {
   "cell_type": "code",
   "execution_count": 4,
   "id": "9d9ec398-fd08-486d-90ae-b92d7f6d5d95",
   "metadata": {},
   "outputs": [
    {
     "data": {
      "text/plain": [
       "[{'entity_group': 'PER',\n",
       "  'score': 0.99684346,\n",
       "  'word': 'Nicola',\n",
       "  'start': 11,\n",
       "  'end': 17}]"
      ]
     },
     "execution_count": 4,
     "metadata": {},
     "output_type": "execute_result"
    }
   ],
   "source": [
    "ner(\"My name is Nicola and I won't tell you where I live, but you can certainly figure it out\")"
   ]
  },
  {
   "cell_type": "code",
   "execution_count": 5,
   "id": "f8be12e2-b2a1-40c9-8169-3cf626f5799d",
   "metadata": {},
   "outputs": [
    {
     "data": {
      "text/plain": [
       "[{'entity_group': 'MISC',\n",
       "  'score': 0.7579032,\n",
       "  'word': 'Organization',\n",
       "  'start': 11,\n",
       "  'end': 23}]"
      ]
     },
     "execution_count": 5,
     "metadata": {},
     "output_type": "execute_result"
    }
   ],
   "source": [
    "ner(\"What is an Organization?\")"
   ]
  },
  {
   "cell_type": "code",
   "execution_count": 6,
   "id": "de8e1070-fac7-4a1d-b16e-f0dc533a86f3",
   "metadata": {},
   "outputs": [
    {
     "data": {
      "text/plain": [
       "[]"
      ]
     },
     "execution_count": 6,
     "metadata": {},
     "output_type": "execute_result"
    }
   ],
   "source": [
    "ner(\"So I guess location is a location, right?\")"
   ]
  },
  {
   "cell_type": "code",
   "execution_count": 8,
   "id": "17308fc4-9b18-4f79-baf2-4869e786b4e2",
   "metadata": {},
   "outputs": [
    {
     "data": {
      "text/plain": [
       "[{'entity_group': 'LOC',\n",
       "  'score': 0.9987457,\n",
       "  'word': 'Paris',\n",
       "  'start': 20,\n",
       "  'end': 25},\n",
       " {'entity_group': 'LOC',\n",
       "  'score': 0.99956197,\n",
       "  'word': 'Paris',\n",
       "  'start': 32,\n",
       "  'end': 37}]"
      ]
     },
     "execution_count": 8,
     "metadata": {},
     "output_type": "execute_result"
    }
   ],
   "source": [
    "ner(\"OK, let's try this: Paris is in Paris\")"
   ]
  },
  {
   "cell_type": "code",
   "execution_count": 9,
   "id": "b231fe86-b1c4-4bc6-816a-500770963fc3",
   "metadata": {},
   "outputs": [
    {
     "data": {
      "text/plain": [
       "[{'entity_group': 'PER',\n",
       "  'score': 0.9731588,\n",
       "  'word': 'Paris',\n",
       "  'start': 21,\n",
       "  'end': 26},\n",
       " {'entity_group': 'LOC',\n",
       "  'score': 0.9997229,\n",
       "  'word': 'Paris',\n",
       "  'start': 34,\n",
       "  'end': 39}]"
      ]
     },
     "execution_count": 9,
     "metadata": {},
     "output_type": "execute_result"
    }
   ],
   "source": [
    "ner(\"What if a lady named Paris was in Paris?\")"
   ]
  },
  {
   "cell_type": "code",
   "execution_count": 10,
   "id": "ef63198d-25cb-496a-85be-33d7aa8c22ed",
   "metadata": {},
   "outputs": [
    {
     "data": {
      "text/plain": [
       "[{'entity_group': 'LOC',\n",
       "  'score': 0.99885607,\n",
       "  'word': 'London',\n",
       "  'start': 19,\n",
       "  'end': 25},\n",
       " {'entity_group': 'LOC',\n",
       "  'score': 0.9995993,\n",
       "  'word': 'Paris',\n",
       "  'start': 33,\n",
       "  'end': 38},\n",
       " {'entity_group': 'LOC',\n",
       "  'score': 0.9990344,\n",
       "  'word': 'Paris',\n",
       "  'start': 44,\n",
       "  'end': 49}]"
      ]
     },
     "execution_count": 10,
     "metadata": {},
     "output_type": "execute_result"
    }
   ],
   "source": [
    "ner(\"Ok so then what if London was in Paris with Paris?\")"
   ]
  },
  {
   "cell_type": "code",
   "execution_count": 11,
   "id": "03a45884-1e3b-4e75-b924-5dc643e31517",
   "metadata": {},
   "outputs": [
    {
     "data": {
      "text/plain": [
       "[{'entity_group': 'LOC',\n",
       "  'score': 0.98498374,\n",
       "  'word': 'Paris',\n",
       "  'start': 0,\n",
       "  'end': 5},\n",
       " {'entity_group': 'LOC',\n",
       "  'score': 0.9997222,\n",
       "  'word': 'London',\n",
       "  'start': 17,\n",
       "  'end': 23},\n",
       " {'entity_group': 'LOC',\n",
       "  'score': 0.8261944,\n",
       "  'word': 'Paris',\n",
       "  'start': 29,\n",
       "  'end': 34}]"
      ]
     },
     "execution_count": 11,
     "metadata": {},
     "output_type": "execute_result"
    }
   ],
   "source": [
    "ner(\"Paris travels to London with Paris\")"
   ]
  },
  {
   "cell_type": "code",
   "execution_count": null,
   "id": "d445e587-e2cc-49c1-9297-b1975a9a61fe",
   "metadata": {},
   "outputs": [],
   "source": []
  }
 ],
 "metadata": {
  "kernelspec": {
   "display_name": "Python 3 (ipykernel)",
   "language": "python",
   "name": "python3"
  },
  "language_info": {
   "codemirror_mode": {
    "name": "ipython",
    "version": 3
   },
   "file_extension": ".py",
   "mimetype": "text/x-python",
   "name": "python",
   "nbconvert_exporter": "python",
   "pygments_lexer": "ipython3",
   "version": "3.10.13"
  }
 },
 "nbformat": 4,
 "nbformat_minor": 5
}
