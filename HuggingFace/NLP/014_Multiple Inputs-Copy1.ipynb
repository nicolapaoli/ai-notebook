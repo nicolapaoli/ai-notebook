{
 "cells": [
  {
   "cell_type": "code",
   "execution_count": 33,
   "id": "558877e5-e3eb-4865-866f-3151619ff146",
   "metadata": {},
   "outputs": [],
   "source": [
    "# Following NLP Course here:\n",
    "# https://huggingface.co/learn/nlp-course/chapter2/5"
   ]
  },
  {
   "cell_type": "code",
   "execution_count": 34,
   "id": "022d8be9-fc4d-4913-a8b3-f84d60bb2a4f",
   "metadata": {},
   "outputs": [],
   "source": [
    "import torch\n",
    "from transformers import AutoTokenizer, AutoModelForSequenceClassification"
   ]
  },
  {
   "cell_type": "code",
   "execution_count": 36,
   "id": "d5458933-baa6-4143-93ba-caa43557a06a",
   "metadata": {},
   "outputs": [],
   "source": [
    "model_name = \"distilbert-base-uncased-finetuned-sst-2-english\""
   ]
  },
  {
   "cell_type": "code",
   "execution_count": 38,
   "id": "e3acf67c-1dc7-4399-b964-1957c9f47d7e",
   "metadata": {},
   "outputs": [],
   "source": [
    "tokenizer = AutoTokenizer.from_pretrained(model_name)\n",
    "model = AutoModelForSequenceClassification.from_pretrained(model_name)"
   ]
  },
  {
   "cell_type": "code",
   "execution_count": 39,
   "id": "79c5aefd-e4e9-4d80-92df-2f4b671e7dd1",
   "metadata": {},
   "outputs": [],
   "source": [
    "sentence = \"I've been waiting for so long!\""
   ]
  },
  {
   "cell_type": "code",
   "execution_count": 40,
   "id": "ac32ddbf-3c85-41ab-b3ab-d49fc41594b2",
   "metadata": {},
   "outputs": [
    {
     "data": {
      "text/plain": [
       "['i', \"'\", 've', 'been', 'waiting', 'for', 'so', 'long', '!']"
      ]
     },
     "execution_count": 40,
     "metadata": {},
     "output_type": "execute_result"
    }
   ],
   "source": [
    "tokens = tokenizer.tokenize(sentence)\n",
    "tokens"
   ]
  },
  {
   "cell_type": "code",
   "execution_count": 41,
   "id": "9b3c63c8-1cb4-44b3-b0ea-88449e91a0d3",
   "metadata": {},
   "outputs": [
    {
     "data": {
      "text/plain": [
       "[1045, 1005, 2310, 2042, 3403, 2005, 2061, 2146, 999]"
      ]
     },
     "execution_count": 41,
     "metadata": {},
     "output_type": "execute_result"
    }
   ],
   "source": [
    "ids = tokenizer.convert_tokens_to_ids(tokens)\n",
    "ids"
   ]
  },
  {
   "cell_type": "code",
   "execution_count": 42,
   "id": "496afed0-7506-415d-a1b3-c08555c2fef8",
   "metadata": {},
   "outputs": [
    {
     "data": {
      "text/plain": [
       "tensor([1045, 1005, 2310, 2042, 3403, 2005, 2061, 2146,  999])"
      ]
     },
     "execution_count": 42,
     "metadata": {},
     "output_type": "execute_result"
    }
   ],
   "source": [
    "input_ids = torch.tensor(ids)\n",
    "input_ids"
   ]
  },
  {
   "cell_type": "code",
   "execution_count": 46,
   "id": "1ea455a0-abd3-4b70-9f9c-9c6dab157b6a",
   "metadata": {},
   "outputs": [
    {
     "name": "stdout",
     "output_type": "stream",
     "text": [
      "too many indices for tensor of dimension 1\n"
     ]
    }
   ],
   "source": [
    "# This will fail because se sent a single sentence,\n",
    "# while transformers expect multiple dimensions\n",
    "try:\n",
    "    model(input_ids)\n",
    "except Exception as e:\n",
    "    print(e)"
   ]
  },
  {
   "cell_type": "code",
   "execution_count": 49,
   "id": "9b6905dc-b9d6-4459-8900-32403229b3c1",
   "metadata": {},
   "outputs": [
    {
     "data": {
      "text/plain": [
       "tensor([[ 101, 1045, 1005, 2310, 2042, 3403, 2005, 2061, 2146,  999,  102]])"
      ]
     },
     "execution_count": 49,
     "metadata": {},
     "output_type": "execute_result"
    }
   ],
   "source": [
    "tokenized_inputs = tokenizer(sentence, return_tensors=\"pt\")\n",
    "tokenized_inputs['input_ids']"
   ]
  },
  {
   "cell_type": "code",
   "execution_count": 51,
   "id": "e81c2090-95f7-45ba-8f18-b5497acf3588",
   "metadata": {},
   "outputs": [
    {
     "data": {
      "text/plain": [
       "tensor([[1045, 1005, 2310, 2042, 3403, 2005, 2061, 2146,  999]])"
      ]
     },
     "execution_count": 51,
     "metadata": {},
     "output_type": "execute_result"
    }
   ],
   "source": [
    "# Trying again with a new dimension:\n",
    "input_ids = torch.tensor([ids])\n",
    "input_ids"
   ]
  },
  {
   "cell_type": "code",
   "execution_count": 53,
   "id": "a51c6979-ddd6-4836-8500-381e05460d7b",
   "metadata": {},
   "outputs": [
    {
     "data": {
      "text/plain": [
       "SequenceClassifierOutput(loss=None, logits=tensor([[ 1.4705, -1.0068]], grad_fn=<AddmmBackward0>), hidden_states=None, attentions=None)"
      ]
     },
     "execution_count": 53,
     "metadata": {},
     "output_type": "execute_result"
    }
   ],
   "source": [
    "output = model(input_ids)\n",
    "output"
   ]
  },
  {
   "cell_type": "code",
   "execution_count": 54,
   "id": "11a69efa-d47e-4dca-a162-77d6d7dbbb68",
   "metadata": {},
   "outputs": [
    {
     "data": {
      "text/plain": [
       "tensor([[ 1.4705, -1.0068]], grad_fn=<AddmmBackward0>)"
      ]
     },
     "execution_count": 54,
     "metadata": {},
     "output_type": "execute_result"
    }
   ],
   "source": [
    "output.logits"
   ]
  },
  {
   "cell_type": "code",
   "execution_count": 57,
   "id": "1f38b754-c0bc-41f3-81e2-89e446fbe7c5",
   "metadata": {},
   "outputs": [
    {
     "data": {
      "text/plain": [
       "tensor([[ 1.5694, -1.3895],\n",
       "        [ 0.9907, -0.9139]], grad_fn=<AddmmBackward0>)"
      ]
     },
     "execution_count": 57,
     "metadata": {},
     "output_type": "execute_result"
    }
   ],
   "source": [
    "# PADDING\n",
    "# When sending multiple sentences, they need to have same length.\n",
    "# So a padding id is added\n",
    "padding_id = 100\n",
    "batched_ids = [\n",
    "    [200, 200, 200],\n",
    "    [200, 200, padding_id],\n",
    "]\n",
    "model(torch.tensor(batched_ids)).logits"
   ]
  },
  {
   "cell_type": "code",
   "execution_count": 59,
   "id": "20bf8d32-3c49-449f-a367-cf2cffa66c09",
   "metadata": {},
   "outputs": [
    {
     "name": "stdout",
     "output_type": "stream",
     "text": [
      "tensor([[ 1.5694, -1.3895]], grad_fn=<AddmmBackward0>)\n",
      "tensor([[ 0.5803, -0.4125]], grad_fn=<AddmmBackward0>)\n"
     ]
    }
   ],
   "source": [
    "# but they have different logits:\n",
    "print(model(torch.tensor([[200,200,200]])).logits)\n",
    "print(model(torch.tensor([[200,200]])).logits)"
   ]
  },
  {
   "cell_type": "code",
   "execution_count": 61,
   "id": "20ea0731-cdc9-41de-896d-e9c5f9b943fd",
   "metadata": {},
   "outputs": [
    {
     "data": {
      "text/plain": [
       "tensor([[ 1.5694, -1.3895],\n",
       "        [ 0.5803, -0.4125]], grad_fn=<AddmmBackward0>)"
      ]
     },
     "execution_count": 61,
     "metadata": {},
     "output_type": "execute_result"
    }
   ],
   "source": [
    "# to make them the same, an attention mask is also passed:\n",
    "attention_mask = [\n",
    "    [1, 1, 1],\n",
    "    [1, 1, 0]\n",
    "]\n",
    "model(torch.tensor(batched_ids), attention_mask=torch.tensor(attention_mask)).logits"
   ]
  },
  {
   "cell_type": "code",
   "execution_count": null,
   "id": "d2c899c3-a6f6-4dfa-9b2e-eadc3dc981c7",
   "metadata": {},
   "outputs": [],
   "source": []
  }
 ],
 "metadata": {
  "kernelspec": {
   "display_name": "Python 3 (ipykernel)",
   "language": "python",
   "name": "python3"
  },
  "language_info": {
   "codemirror_mode": {
    "name": "ipython",
    "version": 3
   },
   "file_extension": ".py",
   "mimetype": "text/x-python",
   "name": "python",
   "nbconvert_exporter": "python",
   "pygments_lexer": "ipython3",
   "version": "3.10.13"
  }
 },
 "nbformat": 4,
 "nbformat_minor": 5
}
