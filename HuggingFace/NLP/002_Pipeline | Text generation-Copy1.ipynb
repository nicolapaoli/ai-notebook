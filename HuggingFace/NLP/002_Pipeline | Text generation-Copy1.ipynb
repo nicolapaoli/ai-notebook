{
 "cells": [
  {
   "cell_type": "code",
   "execution_count": 1,
   "id": "d7cb0179-40c0-48b3-a112-0dca7d5821ee",
   "metadata": {},
   "outputs": [],
   "source": [
    "# Following NLP Course here:\n",
    "# https://huggingface.co/learn/nlp-course/chapter1/1"
   ]
  },
  {
   "cell_type": "code",
   "execution_count": 2,
   "id": "acf6a69a-40a2-4044-9352-ef17910d94cb",
   "metadata": {},
   "outputs": [],
   "source": [
    "from transformers import pipeline"
   ]
  },
  {
   "cell_type": "code",
   "execution_count": 3,
   "id": "e1501f3e-a77a-4140-8097-d853270912b6",
   "metadata": {},
   "outputs": [
    {
     "name": "stderr",
     "output_type": "stream",
     "text": [
      "No model was supplied, defaulted to gpt2 and revision 6c0e608 (https://huggingface.co/gpt2).\n",
      "Using a pipeline without specifying a model name and revision in production is not recommended.\n"
     ]
    }
   ],
   "source": [
    "# Pipeline for text generation\n",
    "generator = pipeline(\"text-generation\")"
   ]
  },
  {
   "cell_type": "code",
   "execution_count": 4,
   "id": "f39701db-8acd-4658-a45e-e876a35dbc46",
   "metadata": {},
   "outputs": [
    {
     "name": "stderr",
     "output_type": "stream",
     "text": [
      "Setting `pad_token_id` to `eos_token_id`:50256 for open-end generation.\n"
     ]
    },
    {
     "data": {
      "text/plain": [
       "[{'generated_text': 'In this course I will learn how to create images of the best way of using WordPress for blogging and web development and create templates for any of these types of projects. From there you can see how to generate your own templates using simple HTML forms, code'}]"
      ]
     },
     "execution_count": 4,
     "metadata": {},
     "output_type": "execute_result"
    }
   ],
   "source": [
    "generator(\"In this course I will learn how to\")"
   ]
  },
  {
   "cell_type": "code",
   "execution_count": 5,
   "id": "b8b616d0-0758-41c4-a308-0aa7a28ceca7",
   "metadata": {},
   "outputs": [
    {
     "name": "stderr",
     "output_type": "stream",
     "text": [
      "Setting `pad_token_id` to `eos_token_id`:50256 for open-end generation.\n"
     ]
    },
    {
     "data": {
      "text/plain": [
       "[{'generated_text': 'In this course I will learn how to make use of some of the common sense principles of programming from the programming language and develop a simple yet elegant interface'},\n",
       " {'generated_text': 'In this course I will learn how to use the RCL API between 2.x and 4.x, from simple commands.\\n\\nLearning The'}]"
      ]
     },
     "execution_count": 5,
     "metadata": {},
     "output_type": "execute_result"
    }
   ],
   "source": [
    "generator(\n",
    "    \"In this course I will learn how to\",\n",
    "    max_length=30,\n",
    "    num_return_sequences=2\n",
    ")"
   ]
  },
  {
   "cell_type": "code",
   "execution_count": 6,
   "id": "adcdc093-d91a-4bce-baee-f328c102b68d",
   "metadata": {},
   "outputs": [
    {
     "name": "stderr",
     "output_type": "stream",
     "text": [
      "Setting `pad_token_id` to `eos_token_id`:50256 for open-end generation.\n"
     ]
    },
    {
     "data": {
      "text/plain": [
       "[{'generated_text': 'Today, as the government'},\n",
       " {'generated_text': 'Today? We love to'},\n",
       " {'generated_text': 'Today \"I know this'},\n",
       " {'generated_text': 'Today to use a combination'},\n",
       " {'generated_text': 'Today is a month-'},\n",
       " {'generated_text': 'Today and on Facebook\\n'},\n",
       " {'generated_text': 'Today to say that she'},\n",
       " {'generated_text': \"Today's decision to stop\"},\n",
       " {'generated_text': 'Today\\n\\nThis is'},\n",
       " {'generated_text': 'Today, the US economy'},\n",
       " {'generated_text': 'Today: The \"Red'},\n",
       " {'generated_text': 'Today:\\n\\n•'},\n",
       " {'generated_text': 'Today to look at how'},\n",
       " {'generated_text': 'Today - the first time'},\n",
       " {'generated_text': 'Today and into the future'},\n",
       " {'generated_text': 'Today, the U.'},\n",
       " {'generated_text': 'Today. The fact that'},\n",
       " {'generated_text': \"Today's news conference was\"},\n",
       " {'generated_text': \"Today, it's a\"},\n",
       " {'generated_text': 'Today.com.\\n'}]"
      ]
     },
     "execution_count": 6,
     "metadata": {},
     "output_type": "execute_result"
    }
   ],
   "source": [
    "generator(\n",
    "    \"Today\",\n",
    "    max_length=5,\n",
    "    num_return_sequences=20\n",
    ")"
   ]
  },
  {
   "cell_type": "code",
   "execution_count": 7,
   "id": "678d7c9f-8e4e-44a4-b7e3-33488bdf7da1",
   "metadata": {},
   "outputs": [
    {
     "name": "stderr",
     "output_type": "stream",
     "text": [
      "Setting `pad_token_id` to `eos_token_id`:50256 for open-end generation.\n"
     ]
    },
    {
     "data": {
      "text/plain": [
       "[{'generated_text': 'Tomorrow (Saturday, 6'},\n",
       " {'generated_text': 'Tomorrow when they finally start'},\n",
       " {'generated_text': 'Tomorrow (June 6)'},\n",
       " {'generated_text': 'Tomorrow, May 9,'},\n",
       " {'generated_text': 'Tomorrow\\n\\n12-'},\n",
       " {'generated_text': 'Tomorrow. We are not'},\n",
       " {'generated_text': 'Tomorrow, it would be'},\n",
       " {'generated_text': 'Tomorrow to see where you'},\n",
       " {'generated_text': 'Tomorrow, March 22,'},\n",
       " {'generated_text': 'Tomorrow, June 14 –'},\n",
       " {'generated_text': 'Tomorrow, on behalf of'},\n",
       " {'generated_text': \"Tomorrow's theme song is\"},\n",
       " {'generated_text': 'Tomorrow\\n\\nPenny'},\n",
       " {'generated_text': \"Tomorrow's Show\\n\\n\"},\n",
       " {'generated_text': 'Tomorrow. It will take'},\n",
       " {'generated_text': 'Tomorrow, this is another'},\n",
       " {'generated_text': 'Tomorrow, and I did'},\n",
       " {'generated_text': 'Tomorrow, March 27th'},\n",
       " {'generated_text': 'Tomorrow, you have to'},\n",
       " {'generated_text': 'Tomorrow, the White House'}]"
      ]
     },
     "execution_count": 7,
     "metadata": {},
     "output_type": "execute_result"
    }
   ],
   "source": [
    "generator(\n",
    "    \"Tomorrow\",\n",
    "    max_length=5,\n",
    "    num_return_sequences=20\n",
    ")"
   ]
  },
  {
   "cell_type": "code",
   "execution_count": null,
   "id": "1b44568d-8d0b-443d-ab6b-5e48eae6a15e",
   "metadata": {},
   "outputs": [],
   "source": []
  }
 ],
 "metadata": {
  "kernelspec": {
   "display_name": "Python 3 (ipykernel)",
   "language": "python",
   "name": "python3"
  },
  "language_info": {
   "codemirror_mode": {
    "name": "ipython",
    "version": 3
   },
   "file_extension": ".py",
   "mimetype": "text/x-python",
   "name": "python",
   "nbconvert_exporter": "python",
   "pygments_lexer": "ipython3",
   "version": "3.10.13"
  }
 },
 "nbformat": 4,
 "nbformat_minor": 5
}
